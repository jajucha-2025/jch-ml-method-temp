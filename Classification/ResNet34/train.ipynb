{
 "cells": [
  {
   "cell_type": "code",
   "execution_count": null,
   "id": "b4eed0e7",
   "metadata": {
    "vscode": {
     "languageId": "plaintext"
    }
   },
   "outputs": [],
   "source": [
    "# 필요한 라이브러리 임포트\n",
    "import os                             # 파일 및 디렉토리 작업을 위한 모듈\n",
    "import torch                          # PyTorch 딥러닝 프레임워크\n",
    "import torch.nn as nn                 # 신경망 관련 모듈\n",
    "import torch.optim as optim           # 최적화 알고리즘 모듈\n",
    "from PIL import Image                 # 이미지 처리 모듈 (Pillow)\n",
    "import shutil                         # 파일 및 폴더 복사/삭제 등을 위한 고급 파일 처리 모듈\n",
    "from torchvision import transforms, models  # 이미지 변환 및 사전학습 모델\n",
    "from torch.utils.data import Dataset, DataLoader  # 커스텀 데이터셋 및 배치 로더\n",
    "import matplotlib.pyplot as plt       # 그래프 시각화\n",
    "from IPython.display import clear_output  # Jupyter Notebook에서 출력 갱신용\n",
    "\n",
    "# 디바이스 설정: GPU가 사용 가능한 경우 'cuda', 아니면 'cpu'를 사용\n",
    "device = torch.device(\"cuda\" if torch.cuda.is_available() else \"cpu\")\n",
    "\n",
    "# 삭제할 폴더 경로 지정\n",
    "folder_path = \"checkpoints/train/weights\"\n",
    "\n",
    "# 해당 폴더가 존재하는지 확인\n",
    "if os.path.exists(folder_path):\n",
    "    # 폴더 안의 모든 파일과 하위 폴더를 순회\n",
    "    for filename in os.listdir(folder_path):\n",
    "        # 각 파일 또는 폴더의 전체 경로를 생성\n",
    "        file_path = os.path.join(folder_path, filename)\n",
    "        try:\n",
    "            # 해당 경로가 '파일' 또는 '심볼릭 링크'인 경우 삭제\n",
    "            if os.path.isfile(file_path) or os.path.islink(file_path):\n",
    "                os.unlink(file_path)  # 파일 또는 링크 삭제\n",
    "                print(f\"파일 '{file_path}'이 삭제되었습니다.\")\n",
    "            # 해당 경로가 '디렉토리'인 경우 재귀적으로 삭제\n",
    "            elif os.path.isdir(file_path):\n",
    "                shutil.rmtree(file_path)  # 폴더 전체 삭제\n",
    "                print(f\"폴더 '{file_path}'이 삭제되었습니다.\")\n",
    "        except Exception as e:\n",
    "            # 삭제 중 오류가 발생한 경우 에러 메시지를 출력\n",
    "            print(f\"'{file_path}'를 삭제하는 중 에러가 발생했습니다: {e}\")\n",
    "else:\n",
    "    # 폴더가 존재하지 않는 경우 안내 메시지 출력\n",
    "    print(f\"폴더 '{folder_path}'가 존재하지 않습니다.\")\n"
   ]
  },
  {
   "cell_type": "code",
   "execution_count": null,
   "id": "306e2c60",
   "metadata": {
    "vscode": {
     "languageId": "plaintext"
    }
   },
   "outputs": [],
   "source": [
    "# 하이퍼파라미터 설정\n",
    "EPOCH = 20        # 총 학습 에포크 수\n",
    "pre_epoch = 0      # 시작 에포크 (재학습 시 사용)\n",
    "BATCH_SIZE = 16    # 배치 크기\n",
    "LR = 0.01          # 학습률\n",
    "TRAIN_DATA_PERCENT = 0.8  # 훈련 데이터 비율"
   ]
  },
  {
   "cell_type": "code",
   "execution_count": null,
   "id": "a8afed82",
   "metadata": {
    "vscode": {
     "languageId": "plaintext"
    }
   },
   "outputs": [],
   "source": [
    "# PyTorch의 Dataset 클래스를 상속하여 CustomDataset 정의\n",
    "class CustomDataset(Dataset):\n",
    "    def __init__(self, root_dir, transform=None):\n",
    "        self.root_dir = root_dir                    # 데이터셋의 루트 폴더 경로\n",
    "        self.transform = transform                  # 이미지에 적용할 변환(transform) 함수\n",
    "        # 클래스 이름 리스트를 오름차순으로 정렬하여 저장\n",
    "        self.classes = sorted([\n",
    "            d for d in os.listdir(root_dir)\n",
    "            if os.path.isdir(os.path.join(root_dir, d))  # 폴더만 추출\n",
    "        ])\n",
    "        # 클래스 이름을 숫자 인덱스로 매핑 (예: {'cat': 0, 'dog': 1})\n",
    "        self.class_to_idx = {\n",
    "            cls_name: idx for idx, cls_name in enumerate(self.classes)\n",
    "        }\n",
    "        # 모든 이미지 경로와 라벨을 불러오는 함수 호출\n",
    "        self.data = self._load_data()\n",
    "\n",
    "    def _load_data(self):\n",
    "        data = []\n",
    "        for cls in self.classes:\n",
    "            class_path = os.path.join(self.root_dir, cls)  # 클래스별 디렉토리 경로\n",
    "            for img_name in os.listdir(class_path):        # 클래스 폴더 안의 모든 이미지 파일\n",
    "                img_path = os.path.join(class_path, img_name)\n",
    "                label = self.class_to_idx[cls]              # 클래스 이름을 숫자로 매핑\n",
    "                data.append((img_path, label))              # (이미지 경로, 라벨) 튜플 저장\n",
    "        return data\n",
    "\n",
    "    def __len__(self):\n",
    "        return len(self.data)  # 전체 데이터 개수 반환\n",
    "\n",
    "    def __getitem__(self, idx):\n",
    "        img_path, label = self.data[idx]                    # 인덱스에 해당하는 이미지 경로와 라벨\n",
    "        image = Image.open(img_path).convert('RGB')         # 이미지 파일 열고 RGB로 변환\n",
    "        if self.transform:                                  # transform이 설정되어 있으면 적용\n",
    "            image = self.transform(image)\n",
    "        return image, label                                 # 이미지와 라벨 반환\n",
    "\n",
    "\n",
    "# 데이터 전처리 설정: 이미지를 224x224 크기로 리사이즈하고 텐서로 변환\n",
    "transform = transforms.Compose([\n",
    "    transforms.Resize((224, 224)),   # 입력 크기를 사전학습 모델 크기에 맞춤\n",
    "    transforms.ToTensor()            # [0, 1] 범위의 Tensor로 변환\n",
    "])\n",
    "\n",
    "# 전체 데이터셋 로드 (예: 'data' 폴더 구조는 data/class1/*.jpg, data/class2/*.jpg ...)\n",
    "dataset = CustomDataset(root_dir=\"data\", transform=transform)\n",
    "\n",
    "# 전체 데이터셋에서 훈련/테스트 비율 설정\n",
    "# 예: TRAIN_DATA_PERCENT = 0.8이라면 훈련 80%, 테스트 20%\n",
    "train_size = int(TRAIN_DATA_PERCENT * len(dataset))\n",
    "test_size = len(dataset) - train_size\n",
    "\n",
    "# 데이터셋을 무작위로 훈련 세트와 테스트 세트로 분할\n",
    "train_dataset, test_dataset = torch.utils.data.random_split(dataset, [train_size, test_size])\n",
    "\n",
    "# DataLoader는 데이터를 배치 단위로 불러오고, 멀티 스레딩(num_workers)을 활용\n",
    "train_loader = DataLoader(train_dataset, batch_size=BATCH_SIZE, shuffle=True, num_workers=2)\n",
    "test_loader = DataLoader(test_dataset, batch_size=BATCH_SIZE, shuffle=False, num_workers=2)\n",
    "\n",
    "# 훈련/테스트 데이터셋의 크기 출력\n",
    "print(f\"훈련 데이터 수: {len(train_dataset)}, 테스트 데이터 수: {len(test_dataset)}\")\n",
    "    "
   ]
  }
 ],
 "metadata": {
  "language_info": {
   "name": "python"
  }
 },
 "nbformat": 4,
 "nbformat_minor": 5
}
