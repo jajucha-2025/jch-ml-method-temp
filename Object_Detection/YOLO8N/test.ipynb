{
 "cells": [
  {
   "cell_type": "code",
   "execution_count": null,
   "id": "9e10919b",
   "metadata": {
    "vscode": {
     "languageId": "plaintext"
    }
   },
   "outputs": [],
   "source": [
    "NAME = \"\""
   ]
  },
  {
   "cell_type": "code",
   "execution_count": null,
   "id": "2532cd38",
   "metadata": {
    "vscode": {
     "languageId": "plaintext"
    }
   },
   "outputs": [],
   "source": [
    "import logging                    # 로그 레벨 설정을 위한 모듈\n",
    "import cv2                        # OpenCV: 이미지 처리 및 시각화를 위한 라이브러리\n",
    "from ultralytics import YOLO      # YOLO 모델 로딩용 라이브러리\n",
    "import jchm                       # 자주차 모듈\n",
    "\n",
    "# YOLOv8의 로그 출력 억제 (불필요한 출력 제거)\n",
    "logging.getLogger(\"ultralytics\").setLevel(logging.CRITICAL)\n",
    "\n",
    "# 사용자 학습된 YOLOv8 모델 불러오기\n",
    "model = YOLO(f\"checkpoints/train/weights/{NAME}\")  # .pt 파일명 입력\n",
    "\n",
    "# 실시간 이미지 수집 및 객체 탐지 루프\n",
    "while True:\n",
    "    # 자주차 카메라에서 프레임(이미지) 받아오기\n",
    "    frame_resized = jchm.camera.get_image()\n",
    "\n",
    "    # YOLOv8 모델로 이미지 추론 수행\n",
    "    results = model(frame_resized)\n",
    "\n",
    "    # 탐지된 결과를 순회하며 시각화\n",
    "    for result in results:\n",
    "        for box in result.boxes:\n",
    "            # 바운딩 박스 좌표 추출 (좌상단 x1,y1 / 우하단 x2,y2)\n",
    "            x1, y1, x2, y2 = map(int, box.xyxy[0])\n",
    "\n",
    "            # 탐지 신뢰도(confidence)와 클래스 ID 추출\n",
    "            confidence = box.conf[0]\n",
    "            class_id = int(box.cls[0])\n",
    "\n",
    "            # 클래스 이름과 신뢰도 점수를 조합하여 라벨 생성\n",
    "            label = f\"{model.names[class_id]} {confidence:.2f}\"\n",
    "\n",
    "            # 바운딩 박스 그리기 (녹색 사각형)\n",
    "            cv2.rectangle(frame_resized, (x1, y1), (x2, y2), (0, 255, 0), 2)\n",
    "\n",
    "            # 클래스 라벨 텍스트 그리기 (박스 위에)\n",
    "            cv2.putText(frame_resized, label, (x1, y1 - 10),\n",
    "                        cv2.FONT_HERSHEY_SIMPLEX, 0.5, (0, 255, 0), 2)\n",
    "\n",
    "    # 주석(탐지 결과)이 표시된 이미지를 화면에 출력\n",
    "    jchm.camera.show_image(frame_resized)\n"
   ]
  }
 ],
 "metadata": {
  "language_info": {
   "name": "python"
  }
 },
 "nbformat": 4,
 "nbformat_minor": 5
}
